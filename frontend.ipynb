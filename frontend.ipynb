{
  "cells": [
    {
      "cell_type": "code",
      "execution_count": 2,
      "id": "279b9496-e183-4176-a0cd-a2aa0da0a70f",
      "metadata": {
        "colab": {
          "base_uri": "https://localhost:8080/"
        },
        "id": "279b9496-e183-4176-a0cd-a2aa0da0a70f",
        "outputId": "630bd337-7505-43d4-ab99-5d4e55addc87"
      },
      "outputs": [
        {
          "output_type": "stream",
          "name": "stdout",
          "text": [
            "\u001b[2K     \u001b[90m━━━━━━━━━━━━━━━━━━━━━━━━━━━━━━━━━━━━━━━━\u001b[0m \u001b[32m44.3/44.3 kB\u001b[0m \u001b[31m2.9 MB/s\u001b[0m eta \u001b[36m0:00:00\u001b[0m\n",
            "\u001b[2K   \u001b[90m━━━━━━━━━━━━━━━━━━━━━━━━━━━━━━━━━━━━━━━━\u001b[0m \u001b[32m8.6/8.6 MB\u001b[0m \u001b[31m74.3 MB/s\u001b[0m eta \u001b[36m0:00:00\u001b[0m\n",
            "\u001b[2K   \u001b[90m━━━━━━━━━━━━━━━━━━━━━━━━━━━━━━━━━━━━━━━━\u001b[0m \u001b[32m6.9/6.9 MB\u001b[0m \u001b[31m72.4 MB/s\u001b[0m eta \u001b[36m0:00:00\u001b[0m\n",
            "\u001b[2K   \u001b[90m━━━━━━━━━━━━━━━━━━━━━━━━━━━━━━━━━━━━━━━━\u001b[0m \u001b[32m79.1/79.1 kB\u001b[0m \u001b[31m5.6 MB/s\u001b[0m eta \u001b[36m0:00:00\u001b[0m\n",
            "\u001b[?25h"
          ]
        }
      ],
      "source": [
        "!pip install streamlit pyngrok --quiet"
      ]
    },
    {
      "cell_type": "code",
      "execution_count": null,
      "id": "7b99dd89-89ab-4807-9a1b-83ae9b4d573e",
      "metadata": {
        "id": "7b99dd89-89ab-4807-9a1b-83ae9b4d573e",
        "colab": {
          "base_uri": "https://localhost:8080/"
        },
        "outputId": "0e9d0243-33a5-45a5-eaa8-d2b6091ee0d1"
      },
      "outputs": [
        {
          "output_type": "stream",
          "name": "stdout",
          "text": [
            "Streamlit app is live at NgrokTunnel: \"https://fedd-34-127-125-111.ngrok-free.app\" -> \"http://localhost:8501\"\n"
          ]
        }
      ],
      "source": [
        "from pyngrok import ngrok\n",
        "!streamlit run apphhh.py &>/dev/null&  # Run the Streamlit app in the background\n",
        "public_url = ngrok.connect(8501, \"http\")\n",
        "print(f\"Streamlit app is live at {public_url}\")"
      ]
    },
    {
      "cell_type": "code",
      "execution_count": 1,
      "id": "dbac26cc-5049-469f-ad97-328935ddf528",
      "metadata": {
        "id": "dbac26cc-5049-469f-ad97-328935ddf528",
        "colab": {
          "base_uri": "https://localhost:8080/",
          "height": 383
        },
        "outputId": "c68ecf0d-1ca9-4eac-dae2-6a60ba8b4e91"
      },
      "outputs": [
        {
          "output_type": "error",
          "ename": "ModuleNotFoundError",
          "evalue": "No module named 'pyngrok'",
          "traceback": [
            "\u001b[0;31m---------------------------------------------------------------------------\u001b[0m",
            "\u001b[0;31mModuleNotFoundError\u001b[0m                       Traceback (most recent call last)",
            "\u001b[0;32m<ipython-input-1-d47aff3358b2>\u001b[0m in \u001b[0;36m<cell line: 1>\u001b[0;34m()\u001b[0m\n\u001b[0;32m----> 1\u001b[0;31m \u001b[0;32mfrom\u001b[0m \u001b[0mpyngrok\u001b[0m \u001b[0;32mimport\u001b[0m \u001b[0mngrok\u001b[0m\u001b[0;34m\u001b[0m\u001b[0;34m\u001b[0m\u001b[0m\n\u001b[0m\u001b[1;32m      2\u001b[0m \u001b[0;34m\u001b[0m\u001b[0m\n\u001b[1;32m      3\u001b[0m \u001b[0;32mfor\u001b[0m \u001b[0mtunnel\u001b[0m \u001b[0;32min\u001b[0m \u001b[0mngrok\u001b[0m\u001b[0;34m.\u001b[0m\u001b[0mget_tunnels\u001b[0m\u001b[0;34m(\u001b[0m\u001b[0;34m)\u001b[0m\u001b[0;34m:\u001b[0m\u001b[0;34m\u001b[0m\u001b[0;34m\u001b[0m\u001b[0m\n\u001b[1;32m      4\u001b[0m     \u001b[0mngrok\u001b[0m\u001b[0;34m.\u001b[0m\u001b[0mdisconnect\u001b[0m\u001b[0;34m(\u001b[0m\u001b[0mtunnel\u001b[0m\u001b[0;34m.\u001b[0m\u001b[0mpublic_url\u001b[0m\u001b[0;34m)\u001b[0m\u001b[0;34m\u001b[0m\u001b[0;34m\u001b[0m\u001b[0m\n\u001b[1;32m      5\u001b[0m \u001b[0;34m\u001b[0m\u001b[0m\n",
            "\u001b[0;31mModuleNotFoundError\u001b[0m: No module named 'pyngrok'",
            "",
            "\u001b[0;31m---------------------------------------------------------------------------\u001b[0;32m\nNOTE: If your import is failing due to a missing package, you can\nmanually install dependencies using either !pip or !apt.\n\nTo view examples of installing some common dependencies, click the\n\"Open Examples\" button below.\n\u001b[0;31m---------------------------------------------------------------------------\u001b[0m\n"
          ],
          "errorDetails": {
            "actions": [
              {
                "action": "open_url",
                "actionText": "Open Examples",
                "url": "/notebooks/snippets/importing_libraries.ipynb"
              }
            ]
          }
        }
      ],
      "source": [
        "from pyngrok import ngrok\n",
        "\n",
        "for tunnel in ngrok.get_tunnels():\n",
        "    ngrok.disconnect(tunnel.public_url)\n",
        "\n",
        "!killall streamlit\n",
        "\n",
        "!streamlit run apph.py &>/dev/null&\n",
        "public_url = ngrok.connect(8501, \"http\")\n",
        "print(f\"Streamlit app is live at {public_url}\")"
      ]
    },
    {
      "cell_type": "code",
      "execution_count": null,
      "id": "e7008a6b-ec17-456c-b414-58b921ff79a8",
      "metadata": {
        "id": "e7008a6b-ec17-456c-b414-58b921ff79a8",
        "colab": {
          "base_uri": "https://localhost:8080/"
        },
        "outputId": "ed14a9c4-0351-4523-f381-c07deebe848a"
      },
      "outputs": [
        {
          "output_type": "stream",
          "name": "stdout",
          "text": [
            "streamlit: no process found\n",
            "Streamlit app is live at NgrokTunnel: \"https://597d-34-127-125-111.ngrok-free.app\" -> \"http://localhost:8501\"\n"
          ]
        }
      ],
      "source": [
        "!pip install pyngrok --quiet\n",
        "from pyngrok import ngrok\n",
        "\n",
        "ngrok.set_auth_token(\"2pL9PbQIhS5E4gjYRa3NPBuYVJg_CDReKu48Yq7nLUHNpuFD\")\n",
        "\n",
        "for tunnel in ngrok.get_tunnels():\n",
        "    ngrok.disconnect(tunnel.public_url)\n",
        "\n",
        "!killall streamlit\n",
        "\n",
        "!streamlit run apph.py &>/dev/null&\n",
        "public_url = ngrok.connect(8501, \"http\")\n",
        "print(f\"Streamlit app is live at {public_url}\")"
      ]
    },
    {
      "cell_type": "code",
      "execution_count": null,
      "id": "fKSvnrMRMNR5",
      "metadata": {
        "id": "fKSvnrMRMNR5",
        "colab": {
          "base_uri": "https://localhost:8080/"
        },
        "outputId": "3e2c09d0-79a1-4e44-c00a-4cdbcd3e3f10"
      },
      "outputs": [
        {
          "output_type": "stream",
          "name": "stdout",
          "text": [
            "Writing apph.py\n"
          ]
        }
      ],
      "source": [
        "%%writefile apph.py\n",
        "import streamlit as st\n",
        "import tensorflow as tf\n",
        "from PIL import Image\n",
        "import numpy as np\n",
        "import plotly.express as px\n",
        "\n",
        "model = tf.keras.models.load_model(\"/content/model.keras\")\n",
        "\n",
        "def preprocess_image(image):\n",
        "    \"\"\"Resize and normalize the image for the model.\"\"\"\n",
        "    image = image.resize((299, 299))\n",
        "    image_array = np.array(image)\n",
        "    if len(image_array.shape) == 2:\n",
        "        image_array = np.stack([image_array] * 3, axis=-1)\n",
        "    image_array = image_array / 255.0\n",
        "    return np.expand_dims(image_array, axis=0)\n",
        "\n",
        "st.set_page_config(\n",
        "    page_title=\"Brain MRI Classification\",\n",
        "    page_icon=\"🧠\",\n",
        "    layout=\"wide\",\n",
        ")\n",
        "\n",
        "st.markdown(\n",
        "    \"\"\"\n",
        "    <style>\n",
        "    .main-title {\n",
        "        font-size: 36px;\n",
        "        font-weight: bold;\n",
        "        color: #4CAF50;\n",
        "        text-align: center;\n",
        "    }\n",
        "    .sub-title {\n",
        "        font-size: 18px;\n",
        "        color: #555;\n",
        "        text-align: center;\n",
        "    }\n",
        "    </style>\n",
        "    \"\"\",\n",
        "    unsafe_allow_html=True,\n",
        ")\n",
        "st.markdown('<div class=\"main-title\">🧠 Brain MRI Tumor Classifier</div>', unsafe_allow_html=True)\n",
        "st.markdown('<div class=\"sub-title\">Upload an MRI image to classify tumor type with high accuracy</div>', unsafe_allow_html=True)\n",
        "\n",
        "uploaded_file = st.file_uploader(\"Upload your MRI image (JPG, PNG)\", type=[\"jpg\", \"jpeg\", \"png\"])\n",
        "\n",
        "if uploaded_file is not None:\n",
        "    image = Image.open(uploaded_file)\n",
        "    st.image(image, caption=\"Uploaded MRI Image\", use_column_width=True)\n",
        "\n",
        "    progress = st.progress(0)\n",
        "    for percent_complete in range(0, 101, 10):\n",
        "        progress.progress(percent_complete)\n",
        "\n",
        "    processed_image = preprocess_image(image)\n",
        "    predictions = model.predict(processed_image)\n",
        "    predicted_class_idx = np.argmax(predictions, axis=1)[0]\n",
        "    confidence = np.max(predictions) * 100\n",
        "\n",
        "    class_labels = [\n",
        "        \"Astrocitoma\",\n",
        "        \"Carcinoma\",\n",
        "        \"Ependimoma\",\n",
        "        \"Papilloma\",\n",
        "        \"Schwannoma\",\n",
        "        \"Tuberculoma\",\n",
        "        \"Glioma\",\n",
        "        \"Meningioma\",\n",
        "        \"Not Tumor\",\n",
        "        \"Pituitary\",\n",
        "    ]\n",
        "    predicted_class_label = class_labels[predicted_class_idx]\n",
        "\n",
        "    st.success(f\"Prediction: {predicted_class_label}\")\n",
        "    st.info(f\"Confidence: {confidence:.2f}%\")\n",
        "\n",
        "    st.markdown(\"### Prediction Probability\")\n",
        "    fig = px.bar(\n",
        "        x=class_labels,\n",
        "        y=predictions.flatten() * 100,\n",
        "        labels={\"x\": \"Tumor Type\", \"y\": \"Confidence (%)\"},\n",
        "        color=predictions.flatten() * 100,\n",
        "        color_continuous_scale=\"RdBu\",\n",
        "    )\n",
        "    st.plotly_chart(fig, use_container_width=True)\n",
        "\n",
        "st.markdown(\"---\")\n",
        "st.markdown(\n",
        "    \"\"\"\n",
        "\n",
        "    \"\"\",\n",
        "    unsafe_allow_html=True,\n",
        ")"
      ]
    },
    {
      "cell_type": "code",
      "source": [],
      "metadata": {
        "id": "E0ACK3wTcEJQ"
      },
      "id": "E0ACK3wTcEJQ",
      "execution_count": null,
      "outputs": []
    }
  ],
  "metadata": {
    "colab": {
      "provenance": []
    },
    "kernelspec": {
      "display_name": "Python 3 (ipykernel)",
      "language": "python",
      "name": "python3"
    },
    "language_info": {
      "codemirror_mode": {
        "name": "ipython",
        "version": 3
      },
      "file_extension": ".py",
      "mimetype": "text/x-python",
      "name": "python",
      "nbconvert_exporter": "python",
      "pygments_lexer": "ipython3",
      "version": "3.12.4"
    }
  },
  "nbformat": 4,
  "nbformat_minor": 5
}