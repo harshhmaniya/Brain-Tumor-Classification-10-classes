{
  "cells": [
    {
      "cell_type": "code",
      "execution_count": 1,
      "id": "279b9496-e183-4176-a0cd-a2aa0da0a70f",
      "metadata": {
        "colab": {
          "base_uri": "https://localhost:8080/"
        },
        "id": "279b9496-e183-4176-a0cd-a2aa0da0a70f",
        "outputId": "6d0cf623-c76b-4de6-ec08-a12581169b55"
      },
      "outputs": [
        {
          "output_type": "stream",
          "name": "stdout",
          "text": [
            "\u001b[2K     \u001b[90m━━━━━━━━━━━━━━━━━━━━━━━━━━━━━━━━━━━━━━━━\u001b[0m \u001b[32m44.3/44.3 kB\u001b[0m \u001b[31m2.2 MB/s\u001b[0m eta \u001b[36m0:00:00\u001b[0m\n",
            "\u001b[2K   \u001b[90m━━━━━━━━━━━━━━━━━━━━━━━━━━━━━━━━━━━━━━━━\u001b[0m \u001b[32m9.1/9.1 MB\u001b[0m \u001b[31m48.4 MB/s\u001b[0m eta \u001b[36m0:00:00\u001b[0m\n",
            "\u001b[2K   \u001b[90m━━━━━━━━━━━━━━━━━━━━━━━━━━━━━━━━━━━━━━━━\u001b[0m \u001b[32m6.9/6.9 MB\u001b[0m \u001b[31m53.4 MB/s\u001b[0m eta \u001b[36m0:00:00\u001b[0m\n",
            "\u001b[2K   \u001b[90m━━━━━━━━━━━━━━━━━━━━━━━━━━━━━━━━━━━━━━━━\u001b[0m \u001b[32m79.1/79.1 kB\u001b[0m \u001b[31m5.3 MB/s\u001b[0m eta \u001b[36m0:00:00\u001b[0m\n",
            "\u001b[?25h"
          ]
        }
      ],
      "source": [
        "!pip install streamlit pyngrok --quiet"
      ]
    },
    {
      "cell_type": "code",
      "execution_count": 4,
      "id": "e7008a6b-ec17-456c-b414-58b921ff79a8",
      "metadata": {
        "id": "e7008a6b-ec17-456c-b414-58b921ff79a8",
        "colab": {
          "base_uri": "https://localhost:8080/"
        },
        "outputId": "9d15fd91-de78-400c-b31c-7fc813291127"
      },
      "outputs": [
        {
          "output_type": "stream",
          "name": "stdout",
          "text": [
            "streamlit: no process found\n",
            "Streamlit app is live at NgrokTunnel: \"https://2daa-35-232-52-198.ngrok-free.app\" -> \"http://localhost:8501\"\n"
          ]
        }
      ],
      "source": [
        "!pip install pyngrok --quiet\n",
        "from pyngrok import ngrok\n",
        "\n",
        "ngrok.set_auth_token(\"2pG58Ye8AU1fD4o9uHo0d6iEEnU_38Nk3G3vc92iby4hYgccL\")\n",
        "\n",
        "for tunnel in ngrok.get_tunnels():\n",
        "    ngrok.disconnect(tunnel.public_url)\n",
        "\n",
        "!killall streamlit\n",
        "\n",
        "!streamlit run apph.py &>/dev/null&\n",
        "public_url = ngrok.connect(8501, \"http\")\n",
        "print(f\"Streamlit app is live at {public_url}\")"
      ]
    },
    {
      "cell_type": "code",
      "execution_count": 2,
      "id": "fKSvnrMRMNR5",
      "metadata": {
        "id": "fKSvnrMRMNR5",
        "colab": {
          "base_uri": "https://localhost:8080/"
        },
        "outputId": "4165f37d-9f9f-4177-e89b-cc47c1dee22a"
      },
      "outputs": [
        {
          "output_type": "stream",
          "name": "stdout",
          "text": [
            "Writing apph.py\n"
          ]
        }
      ],
      "source": [
        "%%writefile apph.py\n",
        "import streamlit as st\n",
        "import tensorflow as tf\n",
        "from PIL import Image\n",
        "import numpy as np\n",
        "import plotly.express as px\n",
        "\n",
        "model = tf.keras.models.load_model(\"/content/model.keras\")\n",
        "\n",
        "def preprocess_image(image):\n",
        "    \"\"\"Resize and normalize the image for the model.\"\"\"\n",
        "    image = image.resize((299, 299))\n",
        "    image_array = np.array(image)\n",
        "    if len(image_array.shape) == 2:\n",
        "        image_array = np.stack([image_array] * 3, axis=-1)\n",
        "    image_array = image_array / 255.0\n",
        "    return np.expand_dims(image_array, axis=0)\n",
        "\n",
        "st.set_page_config(\n",
        "    page_title=\"Brain MRI Classification\",\n",
        "    page_icon=\"🧠\",\n",
        "    layout=\"wide\",\n",
        ")\n",
        "\n",
        "st.markdown(\n",
        "    \"\"\"\n",
        "    <style>\n",
        "    .main-title {\n",
        "        font-size: 36px;\n",
        "        font-weight: bold;\n",
        "        color: #4CAF50;\n",
        "        text-align: center;\n",
        "    }\n",
        "    .sub-title {\n",
        "        font-size: 18px;\n",
        "        color: #555;\n",
        "        text-align: center;\n",
        "    }\n",
        "    </style>\n",
        "    \"\"\",\n",
        "    unsafe_allow_html=True,\n",
        ")\n",
        "st.markdown('<div class=\"main-title\">🧠 Brain MRI Tumor Classifier</div>', unsafe_allow_html=True)\n",
        "st.markdown('<div class=\"sub-title\">Upload an MRI image to classify tumor type with high accuracy</div>', unsafe_allow_html=True)\n",
        "\n",
        "uploaded_file = st.file_uploader(\"Upload your MRI image (JPG, PNG)\", type=[\"jpg\", \"jpeg\", \"png\"])\n",
        "\n",
        "if uploaded_file is not None:\n",
        "    image = Image.open(uploaded_file)\n",
        "    st.image(image, caption=\"Uploaded MRI Image\", use_column_width=True)\n",
        "\n",
        "    progress = st.progress(0)\n",
        "    for percent_complete in range(0, 101, 10):\n",
        "        progress.progress(percent_complete)\n",
        "\n",
        "    processed_image = preprocess_image(image)\n",
        "    predictions = model.predict(processed_image)\n",
        "    predicted_class_idx = np.argmax(predictions, axis=1)[0]\n",
        "    confidence = np.max(predictions) * 100\n",
        "\n",
        "    class_labels = [\n",
        "        \"Astrocitoma\",\n",
        "        \"Carcinoma\",\n",
        "        \"Ependimoma\",\n",
        "        \"Papilloma\",\n",
        "        \"Schwannoma\",\n",
        "        \"Tuberculoma\",\n",
        "        \"Glioma\",\n",
        "        \"Meningioma\",\n",
        "        \"Not Tumor\",\n",
        "        \"Pituitary\",\n",
        "    ]\n",
        "    predicted_class_label = class_labels[predicted_class_idx]\n",
        "\n",
        "    st.success(f\"Prediction: {predicted_class_label}\")\n",
        "    st.info(f\"Confidence: {confidence:.2f}%\")\n",
        "\n",
        "    st.markdown(\"### Prediction Probability\")\n",
        "    fig = px.bar(\n",
        "        x=class_labels,\n",
        "        y=predictions.flatten() * 100,\n",
        "        labels={\"x\": \"Tumor Type\", \"y\": \"Confidence (%)\"},\n",
        "        color=predictions.flatten() * 100,\n",
        "        color_continuous_scale=\"RdBu\",\n",
        "    )\n",
        "    st.plotly_chart(fig, use_container_width=True)\n",
        "\n",
        "st.markdown(\"---\")\n",
        "st.markdown(\n",
        "    \"\"\"\n",
        "\n",
        "    \"\"\",\n",
        "    unsafe_allow_html=True,\n",
        ")"
      ]
    },
    {
      "cell_type": "code",
      "source": [],
      "metadata": {
        "id": "E0ACK3wTcEJQ"
      },
      "id": "E0ACK3wTcEJQ",
      "execution_count": null,
      "outputs": []
    }
  ],
  "metadata": {
    "colab": {
      "provenance": []
    },
    "kernelspec": {
      "display_name": "Python 3 (ipykernel)",
      "language": "python",
      "name": "python3"
    },
    "language_info": {
      "codemirror_mode": {
        "name": "ipython",
        "version": 3
      },
      "file_extension": ".py",
      "mimetype": "text/x-python",
      "name": "python",
      "nbconvert_exporter": "python",
      "pygments_lexer": "ipython3",
      "version": "3.12.4"
    }
  },
  "nbformat": 4,
  "nbformat_minor": 5
}